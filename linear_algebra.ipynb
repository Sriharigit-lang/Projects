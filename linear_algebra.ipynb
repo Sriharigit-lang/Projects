{
 "cells": [
  {
   "cell_type": "code",
   "execution_count": 10,
   "metadata": {},
   "outputs": [
    {
     "name": "stdout",
     "output_type": "stream",
     "text": [
      "hi\n"
     ]
    }
   ],
   "source": [
    "print(\"hi\")\n"
   ]
  },
  {
   "cell_type": "markdown",
   "metadata": {},
   "source": [
    "SCALAR"
   ]
  },
  {
   "cell_type": "code",
   "execution_count": 11,
   "metadata": {},
   "outputs": [
    {
     "name": "stdout",
     "output_type": "stream",
     "text": [
      "scalar x: 5\n"
     ]
    }
   ],
   "source": [
    "import numpy as np\n",
    "x=5\n",
    "print(f\"scalar x: {x}\")"
   ]
  },
  {
   "cell_type": "markdown",
   "metadata": {},
   "source": [
    "VECTOR"
   ]
  },
  {
   "cell_type": "code",
   "execution_count": 12,
   "metadata": {},
   "outputs": [
    {
     "name": "stdout",
     "output_type": "stream",
     "text": [
      "vector v: [3 4 5]\n"
     ]
    }
   ],
   "source": [
    "import numpy as np\n",
    "v = np.array([3,4,5])\n",
    "print(f\"vector v: {v}\")"
   ]
  },
  {
   "cell_type": "markdown",
   "metadata": {},
   "source": [
    "MATRIX MULTIPLICATION:-"
   ]
  },
  {
   "cell_type": "code",
   "execution_count": 13,
   "metadata": {},
   "outputs": [
    {
     "name": "stdout",
     "output_type": "stream",
     "text": [
      "matrix multiplication:\n",
      "[[19 22]\n",
      " [43 50]]\n"
     ]
    }
   ],
   "source": [
    "import numpy as np\n",
    "\n",
    "A = np.array([[1,2],\n",
    "              [3,4]])\n",
    "B = np.array([[5,6],\n",
    "              [7,8]])\n",
    "C = np.dot(A, B)\n",
    "print(\"matrix multiplication:\")\n",
    "print(C)"
   ]
  },
  {
   "cell_type": "code",
   "execution_count": 14,
   "metadata": {},
   "outputs": [
    {
     "name": "stdout",
     "output_type": "stream",
     "text": [
      " the derivative at x^4 is: 4*x**3\n",
      "the derivative at x=2 is: 32\n",
      "Approximate derivative at x=2: -1599983.9996799973\n"
     ]
    }
   ],
   "source": [
    "from sympy import symbols, diff\n",
    "\n",
    "x = symbols('x')\n",
    "f = x**4\n",
    "derivative = diff(f,x)\n",
    "print(' the derivative at x^4 is:', derivative)\n",
    "\n",
    "derivative_value = derivative.subs(x,2)\n",
    "print('the derivative at x=2 is:', derivative_value)\n",
    "\n",
    "def f(x):\n",
    "    return x**4\n",
    "\n",
    "def derivative_f(x, h=1e-5):\n",
    "    return (f(x+h)- f(x)/h)\n",
    "\n",
    "print('Approximate derivative at x=2:',derivative_f(2))"
   ]
  },
  {
   "cell_type": "markdown",
   "metadata": {},
   "source": [
    "NEURAL NETWORK:-"
   ]
  },
  {
   "cell_type": "code",
   "execution_count": 19,
   "metadata": {},
   "outputs": [],
   "source": [
    "import numpy as np\n",
    "import matplotlib.pyplot as plt\n",
    "class simpleneuralnetwork:\n",
    "    def  __init__(self, input_size, hidden_size, output_size):\n",
    "        self.w1 = np.random.randn(hidden_size, input_size) * 0.1\n",
    "        self.w1 = np.zeros((hidden_size, 1))\n",
    "        self.w1 = np.random.randn(output_size,hidden_size) * 0.1\n",
    "        self.w1 = np.zeros((output_size, 1))\n",
    "\n",
    "   \n",
    "\n",
    "\n",
    "       "
   ]
  },
  {
   "cell_type": "code",
   "execution_count": 20,
   "metadata": {},
   "outputs": [
    {
     "data": {
      "text/plain": [
       "<__main__.simpleneuralnetwork at 0x78d394805880>"
      ]
     },
     "execution_count": 20,
     "metadata": {},
     "output_type": "execute_result"
    }
   ],
   "source": [
    "simpleneuralnetwork(input_size=2,hidden_size=16,output_size=1)"
   ]
  },
  {
   "cell_type": "code",
   "execution_count": 17,
   "metadata": {},
   "outputs": [],
   "source": [
    "def relu (self,Z):\n",
    "    return np.maximum(0, Z)\n",
    "def relu_derivative(self,Z):\n",
    "    return Z > 0\n",
    "def sigmoid(self, Z):\n",
    "    return 1 / (1 + np.exp(-Z))\n",
    "def forward_propagation(self, X):\n",
    "    Z1 = np.dot(self.W1, X) + self.b1\n",
    "    A1 = self.relu(Z1)\n",
    "    Z2 = np.dot(self.W2, A1) + self.b2\n",
    "    A2 = self.sigmoid(Z2)\n",
    "    return A2, (Z1, A1, Z2, A2)\n",
    "def compute_loss(self, A2, Y):\n",
    "    m = Y.shape[1]\n",
    "    loss = -1/m * np.sum(Y * np.log(A2 + 1e-8) + (1 - Y) * NP.LOG(1-A2+1e-8))\n",
    "    return loss\n",
    "def backward_propagation(self, X, Y, cache):\n",
    "    m = X.shappe[1]\n",
    "    (Z1, A1, Z2, A2) = cache\n",
    "\n",
    "    dZ2 = A2 - Y\n",
    "    dW2 = 1/m * np.dot(dZ2, A1.T)\n",
    "    db2 = 1/m * np.sum(dZ2, axis=1, keepdims=True)\n",
    "\n",
    "    dA1 = np.dot(self.W2.T, dZ2)\n",
    "    dZ1 = dA1 * self.relu_derivative(Z1)\n",
    "    dW1 = 1/m * np.dot(dZ1,X.T)\n",
    "    db1 = 1/m * np.sum(dZ1, axis=1, keepdims=True)\n",
    "\n",
    "    return dW1,db1,dW2,db2\n",
    "\n",
    "def update_parameters(self,dW1,db1,dW2,db2,learning_rate):\n",
    "    self.W1-=learning_rate*dW1\n",
    "    self.b1-=learning_rate*db1\n",
    "    self.W1-=learning_rate*dW1\n",
    "    self.b2-=learning_rate*db2\n",
    "def train(self,X,Y,num_iterations,learning_rate):\n",
    "    losses=[]\n",
    "    for i in range (num_iterations):\n",
    "        A2,cache = self.forward_propagation(X)\n",
    "        losses.append(loss)\n",
    "        dW1, db1, dW2, db2 = self.backward_propagation(X,Y, cache)\n",
    "        self.update_prameters(dW1, db1, dW2, db2, learning_rate)\n",
    "\n",
    "        if i % 1000 == 0:\n",
    "            print(f\"Iteration {i}, Loss: {loss:.4f}\")\n",
    "    return losses\n",
    "def predict(self, X):\n",
    "    A2, _ = self.forward_propagation(X)\n",
    "    return A2 > 0.5\n",
    "def simulate_neural_network():\n",
    "    np.random.seed(42)\n",
    "\n",
    "    X = np.random.randn(2, 1000)\n",
    "    Y = np.logical_xor(X[0] > 0, X[1] > 0).astype(int).reshape (1,1000)\n",
    "\n",
    "    train_size = 800\n",
    "    X_train, X_test = X[:, : train_size], X[:, train_size:]\n",
    "    Y_train, Y_test = Y[:, : train_size], Y[:, train_size:]\n",
    "\n",
    "    nn= simpleneuralnetwork(imput_size=2, hidden_size=16, output_size=1)\n",
    "    losses = nn.train(X_train, Y_train, num_iterations=50000, \\\n",
    "                      learning_rate=0.01)\n",
    "    predictions = nn.predict(X_test)\n",
    "    accuracy = np.mean(predictions == Y_test)\n",
    "    print(f\"test accuracy: {accuracy*100:.2f}%\")"
   ]
  }
 ],
 "metadata": {
  "kernelspec": {
   "display_name": "Python 3 (ipykernel)",
   "language": "python",
   "name": "python3"
  },
  "language_info": {
   "codemirror_mode": {
    "name": "ipython",
    "version": 3
   },
   "file_extension": ".py",
   "mimetype": "text/x-python",
   "name": "python",
   "nbconvert_exporter": "python",
   "pygments_lexer": "ipython3",
   "version": "3.12.1"
  }
 },
 "nbformat": 4,
 "nbformat_minor": 2
}
